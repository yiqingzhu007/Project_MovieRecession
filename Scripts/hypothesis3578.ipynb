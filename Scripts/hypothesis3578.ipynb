{
 "cells": [
  {
   "cell_type": "markdown",
   "metadata": {},
   "source": [
    "# Test Hypotheses 3,5,7,8"
   ]
  },
  {
   "cell_type": "markdown",
   "metadata": {},
   "source": [
    "Hypothesis 3: Americans instead manifested a ‘tendency to internalize the responsibility for one’s position which often led to feelings of shame’. They blamed themselves for their misfortunes, often apologizing when forced by circumstances to seek economic aid."
   ]
  },
  {
   "cell_type": "markdown",
   "metadata": {},
   "source": [
    "Hypothesis 5: Society is looking for individual leadership that would bring them out of the predicament and collective cooperation was devalued. "
   ]
  },
  {
   "cell_type": "markdown",
   "metadata": {},
   "source": [
    "Hypothesis 7: Hollywood portrays a positive image of the independent working woman both on and off screen"
   ]
  },
  {
   "cell_type": "markdown",
   "metadata": {},
   "source": [
    "Hypothesis 8: Highly focused on the adult world, offered the ultimate reassurance that the nation’s young were still capable of having fun as well, despite the ‘spirit testing dilemmas and sacrifices’ of the Depression decade"
   ]
  },
  {
   "cell_type": "code",
   "execution_count": 1,
   "metadata": {
    "collapsed": true
   },
   "outputs": [],
   "source": [
    "#Special module written for this class\n",
    "#This provides access to data and to helper functions from previous weeks\n",
    "#Make sure you update it before starting this notebook\n",
    "import lucem_illud #pip install -U git+git://github.com/Computational-Content-Analysis-2018/lucem_illud.git\n",
    "\n",
    "#All these packages need to be installed from pip\n",
    "import gensim#For word2vec, etc\n",
    "import requests #For downloading our datasets\n",
    "import nltk #For stop words and stemmers\n",
    "import numpy as np #For arrays\n",
    "import pandas #Gives us DataFrames\n",
    "import matplotlib.pyplot as plt #For graphics\n",
    "import seaborn #Makes the graphics look nicer\n",
    "import sklearn.metrics.pairwise #For cosine similarity\n",
    "import sklearn.manifold #For T-SNE\n",
    "import sklearn.decomposition #For PCA\n",
    "\n",
    "#gensim uses a couple of deprecated features\n",
    "#we can't do anything about them so lets ignore them \n",
    "import warnings\n",
    "warnings.filterwarnings(\"ignore\", category=DeprecationWarning) \n",
    "\n",
    "#This 'magic' command makes the plots work better\n",
    "#in the notebook, don't use it outside of a notebook.\n",
    "#Also you can ignore the warning\n",
    "%matplotlib inline\n",
    "\n",
    "import os #For looking through files\n",
    "import os.path #For managing file paths"
   ]
  },
  {
   "cell_type": "markdown",
   "metadata": {},
   "source": [
    "## Load and Process Data"
   ]
  },
  {
   "cell_type": "markdown",
   "metadata": {},
   "source": [
    "Here we load the raw data sets, label each plot, and then merge all plots into a comprehensive dataframe."
   ]
  },
  {
   "cell_type": "code",
   "execution_count": 79,
   "metadata": {
    "collapsed": true
   },
   "outputs": [],
   "source": [
    "preDF = pandas.read_csv('../Data/pre_plot.csv') \n",
    "postDF = pandas.read_csv('../Data/post_plot.csv')"
   ]
  },
  {
   "cell_type": "markdown",
   "metadata": {},
   "source": [
    "Remove stop words and stem: because we are interesed in the gender effect, thus we would take out all gender-related words."
   ]
  },
  {
   "cell_type": "code",
   "execution_count": 112,
   "metadata": {
    "collapsed": false
   },
   "outputs": [],
   "source": [
    "stopwords = list(set(lucem_illud.stop_words_basic))"
   ]
  },
  {
   "cell_type": "code",
   "execution_count": 80,
   "metadata": {
    "collapsed": true
   },
   "outputs": [],
   "source": [
    "stopwords = list(set(lucem_illud.stop_words_basic) - set(['he', 'him', 'his', 'himself', 'she', \"she's\", 'her', 'hers', 'herself']))"
   ]
  },
  {
   "cell_type": "markdown",
   "metadata": {},
   "source": [
    "For Pre-Recession Corpora"
   ]
  },
  {
   "cell_type": "code",
   "execution_count": 113,
   "metadata": {
    "collapsed": false
   },
   "outputs": [
    {
     "data": {
      "text/html": [
       "<div>\n",
       "<style scoped>\n",
       "    .dataframe tbody tr th:only-of-type {\n",
       "        vertical-align: middle;\n",
       "    }\n",
       "\n",
       "    .dataframe tbody tr th {\n",
       "        vertical-align: top;\n",
       "    }\n",
       "\n",
       "    .dataframe thead th {\n",
       "        text-align: right;\n",
       "    }\n",
       "</style>\n",
       "<table border=\"1\" class=\"dataframe\">\n",
       "  <thead>\n",
       "    <tr style=\"text-align: right;\">\n",
       "      <th></th>\n",
       "      <th>id</th>\n",
       "      <th>title</th>\n",
       "      <th>year</th>\n",
       "      <th>plot</th>\n",
       "      <th>tokenized_sents</th>\n",
       "      <th>normalized_sents</th>\n",
       "    </tr>\n",
       "  </thead>\n",
       "  <tbody>\n",
       "    <tr>\n",
       "      <th>0</th>\n",
       "      <td>3279981</td>\n",
       "      <td>$100 &amp; a T-Shirt: A Documentary About Zines in...</td>\n",
       "      <td>2004</td>\n",
       "      <td>A cultural analysis of what causes zine makers...</td>\n",
       "      <td>[[A, cultural, analysis, of, what, causes, zin...</td>\n",
       "      <td>[[cultural, analysis, causes, zine, makers, ti...</td>\n",
       "    </tr>\n",
       "    <tr>\n",
       "      <th>1</th>\n",
       "      <td>3280756</td>\n",
       "      <td>'Some Kind of Funny Porto Rican?': A Cape Verd...</td>\n",
       "      <td>2006</td>\n",
       "      <td>SKFPR is the untold tragedy and scandal of wha...</td>\n",
       "      <td>[[SKFPR, is, the, untold, tragedy, and, scanda...</td>\n",
       "      <td>[[skfpr, untold, tragedy, scandal, happened, v...</td>\n",
       "    </tr>\n",
       "    <tr>\n",
       "      <th>2</th>\n",
       "      <td>3280876</td>\n",
       "      <td>'Tis Autumn: The Search for Jackie Paris</td>\n",
       "      <td>2006</td>\n",
       "      <td>\"'Tis Autumn: The Search For Jackie Paris\" is ...</td>\n",
       "      <td>[[``, 'T, is, Autumn, :, The, Search, For, Jac...</td>\n",
       "      <td>[[autumn, search, jackie, paris, feature, docu...</td>\n",
       "    </tr>\n",
       "    <tr>\n",
       "      <th>3</th>\n",
       "      <td>3281268</td>\n",
       "      <td>(Yielding to) A Willing Breath</td>\n",
       "      <td>2006</td>\n",
       "      <td>\"(Yielding to) A Willing Breath\" follows the m...</td>\n",
       "      <td>[[``, (, Yielding, to, ), A, Willing, Breath, ...</td>\n",
       "      <td>[[yielding, willing, breath, follows, methodic...</td>\n",
       "    </tr>\n",
       "    <tr>\n",
       "      <th>4</th>\n",
       "      <td>3281368</td>\n",
       "      <td>... Just a Job</td>\n",
       "      <td>2007</td>\n",
       "      <td>Born into the legacy of blue collar workers, F...</td>\n",
       "      <td>[[Born, into, the, legacy, of, blue, collar, w...</td>\n",
       "      <td>[[born, legacy, blue, collar, workers, fred, n...</td>\n",
       "    </tr>\n",
       "  </tbody>\n",
       "</table>\n",
       "</div>"
      ],
      "text/plain": [
       "        id                                              title  year  \\\n",
       "0  3279981  $100 & a T-Shirt: A Documentary About Zines in...  2004   \n",
       "1  3280756  'Some Kind of Funny Porto Rican?': A Cape Verd...  2006   \n",
       "2  3280876           'Tis Autumn: The Search for Jackie Paris  2006   \n",
       "3  3281268                     (Yielding to) A Willing Breath  2006   \n",
       "4  3281368                                     ... Just a Job  2007   \n",
       "\n",
       "                                                plot  \\\n",
       "0  A cultural analysis of what causes zine makers...   \n",
       "1  SKFPR is the untold tragedy and scandal of wha...   \n",
       "2  \"'Tis Autumn: The Search For Jackie Paris\" is ...   \n",
       "3  \"(Yielding to) A Willing Breath\" follows the m...   \n",
       "4  Born into the legacy of blue collar workers, F...   \n",
       "\n",
       "                                     tokenized_sents  \\\n",
       "0  [[A, cultural, analysis, of, what, causes, zin...   \n",
       "1  [[SKFPR, is, the, untold, tragedy, and, scanda...   \n",
       "2  [[``, 'T, is, Autumn, :, The, Search, For, Jac...   \n",
       "3  [[``, (, Yielding, to, ), A, Willing, Breath, ...   \n",
       "4  [[Born, into, the, legacy, of, blue, collar, w...   \n",
       "\n",
       "                                    normalized_sents  \n",
       "0  [[cultural, analysis, causes, zine, makers, ti...  \n",
       "1  [[skfpr, untold, tragedy, scandal, happened, v...  \n",
       "2  [[autumn, search, jackie, paris, feature, docu...  \n",
       "3  [[yielding, willing, breath, follows, methodic...  \n",
       "4  [[born, legacy, blue, collar, workers, fred, n...  "
      ]
     },
     "execution_count": 113,
     "metadata": {},
     "output_type": "execute_result"
    }
   ],
   "source": [
    "#Apply our functions, notice each row is a list of lists now\n",
    "preDF['tokenized_sents'] = preDF['plot'].apply(lambda x: \n",
    "                                               [nltk.word_tokenize(s) for s in nltk.sent_tokenize(x)])\n",
    "preDF['normalized_sents'] = preDF['tokenized_sents'].apply(lambda x: \n",
    "                                                           [lucem_illud.normalizeTokens(s, \n",
    "                                                                                        stopwordLst = stopwords, \n",
    "                                                                                        stemmer = None) \n",
    "                                                            for s in x])\n",
    "\n",
    "preDF[:5]"
   ]
  },
  {
   "cell_type": "markdown",
   "metadata": {},
   "source": [
    "For Post-Recession Corpora:"
   ]
  },
  {
   "cell_type": "code",
   "execution_count": 114,
   "metadata": {
    "collapsed": false
   },
   "outputs": [
    {
     "data": {
      "text/html": [
       "<div>\n",
       "<style scoped>\n",
       "    .dataframe tbody tr th:only-of-type {\n",
       "        vertical-align: middle;\n",
       "    }\n",
       "\n",
       "    .dataframe tbody tr th {\n",
       "        vertical-align: top;\n",
       "    }\n",
       "\n",
       "    .dataframe thead th {\n",
       "        text-align: right;\n",
       "    }\n",
       "</style>\n",
       "<table border=\"1\" class=\"dataframe\">\n",
       "  <thead>\n",
       "    <tr style=\"text-align: right;\">\n",
       "      <th></th>\n",
       "      <th>id</th>\n",
       "      <th>title</th>\n",
       "      <th>year</th>\n",
       "      <th>plot</th>\n",
       "      <th>tokenized_sents</th>\n",
       "      <th>normalized_sents</th>\n",
       "    </tr>\n",
       "  </thead>\n",
       "  <tbody>\n",
       "    <tr>\n",
       "      <th>0</th>\n",
       "      <td>3279442</td>\n",
       "      <td>#5</td>\n",
       "      <td>2013</td>\n",
       "      <td>#5 is a film about the creative process of mak...</td>\n",
       "      <td>[[#, 5, is, a, film, about, the, creative, pro...</td>\n",
       "      <td>[[film, creative, process, making, film], [lik...</td>\n",
       "    </tr>\n",
       "    <tr>\n",
       "      <th>1</th>\n",
       "      <td>3279500</td>\n",
       "      <td>#BreakfastInBedTour</td>\n",
       "      <td>2013</td>\n",
       "      <td>#Tomcrew and Luna Corp join forces to serve th...</td>\n",
       "      <td>[[#, Tomcrew, and, Luna, Corp, join, forces, t...</td>\n",
       "      <td>[[tomcrew, luna, corp, join, forces, serve, be...</td>\n",
       "    </tr>\n",
       "    <tr>\n",
       "      <th>2</th>\n",
       "      <td>3279513</td>\n",
       "      <td>#chicagoGirl: The Social Network Takes on a Di...</td>\n",
       "      <td>2013</td>\n",
       "      <td>A socially networked group of unarmed activist...</td>\n",
       "      <td>[[A, socially, networked, group, of, unarmed, ...</td>\n",
       "      <td>[[socially, networked, group, unarmed, activis...</td>\n",
       "    </tr>\n",
       "    <tr>\n",
       "      <th>3</th>\n",
       "      <td>3279831</td>\n",
       "      <td>#spiritmastertoopenfortheflaminglips</td>\n",
       "      <td>2011</td>\n",
       "      <td>Developing a relationship with Wayne Coyne of ...</td>\n",
       "      <td>[[Developing, a, relationship, with, Wayne, Co...</td>\n",
       "      <td>[[developing, relationship, wayne, coyne, flam...</td>\n",
       "    </tr>\n",
       "    <tr>\n",
       "      <th>4</th>\n",
       "      <td>3279922</td>\n",
       "      <td>#whilewewatch</td>\n",
       "      <td>2011</td>\n",
       "      <td>A gripping look at the media revolution that e...</td>\n",
       "      <td>[[A, gripping, look, at, the, media, revolutio...</td>\n",
       "      <td>[[gripping, look, media, revolution, emerged, ...</td>\n",
       "    </tr>\n",
       "  </tbody>\n",
       "</table>\n",
       "</div>"
      ],
      "text/plain": [
       "        id                                              title  year  \\\n",
       "0  3279442                                                 #5  2013   \n",
       "1  3279500                                #BreakfastInBedTour  2013   \n",
       "2  3279513  #chicagoGirl: The Social Network Takes on a Di...  2013   \n",
       "3  3279831               #spiritmastertoopenfortheflaminglips  2011   \n",
       "4  3279922                                      #whilewewatch  2011   \n",
       "\n",
       "                                                plot  \\\n",
       "0  #5 is a film about the creative process of mak...   \n",
       "1  #Tomcrew and Luna Corp join forces to serve th...   \n",
       "2  A socially networked group of unarmed activist...   \n",
       "3  Developing a relationship with Wayne Coyne of ...   \n",
       "4  A gripping look at the media revolution that e...   \n",
       "\n",
       "                                     tokenized_sents  \\\n",
       "0  [[#, 5, is, a, film, about, the, creative, pro...   \n",
       "1  [[#, Tomcrew, and, Luna, Corp, join, forces, t...   \n",
       "2  [[A, socially, networked, group, of, unarmed, ...   \n",
       "3  [[Developing, a, relationship, with, Wayne, Co...   \n",
       "4  [[A, gripping, look, at, the, media, revolutio...   \n",
       "\n",
       "                                    normalized_sents  \n",
       "0  [[film, creative, process, making, film], [lik...  \n",
       "1  [[tomcrew, luna, corp, join, forces, serve, be...  \n",
       "2  [[socially, networked, group, unarmed, activis...  \n",
       "3  [[developing, relationship, wayne, coyne, flam...  \n",
       "4  [[gripping, look, media, revolution, emerged, ...  "
      ]
     },
     "execution_count": 114,
     "metadata": {},
     "output_type": "execute_result"
    }
   ],
   "source": [
    "#Apply our functions, notice each row is a list of lists now\n",
    "postDF['tokenized_sents'] = postDF['plot'].apply(lambda x: \n",
    "                                               [nltk.word_tokenize(s) for s in nltk.sent_tokenize(x)])\n",
    "postDF['normalized_sents'] = postDF['tokenized_sents'].apply(lambda x: \n",
    "                                                           [lucem_illud.normalizeTokens(s, \n",
    "                                                                                        stopwordLst = stopwords, \n",
    "                                                                                        stemmer = None) \n",
    "                                                            for s in x])\n",
    "\n",
    "postDF[:5]"
   ]
  },
  {
   "cell_type": "markdown",
   "metadata": {},
   "source": [
    "# Word2Vec"
   ]
  },
  {
   "cell_type": "code",
   "execution_count": 115,
   "metadata": {
    "collapsed": true
   },
   "outputs": [],
   "source": [
    "preW2V = gensim.models.word2vec.Word2Vec(preDF['normalized_sents'].sum())"
   ]
  },
  {
   "cell_type": "code",
   "execution_count": 116,
   "metadata": {
    "collapsed": true
   },
   "outputs": [],
   "source": [
    "postW2V = gensim.models.word2vec.Word2Vec(postDF['normalized_sents'].sum())"
   ]
  },
  {
   "cell_type": "markdown",
   "metadata": {},
   "source": [
    "### We can look at a few things that come from the word vectors."
   ]
  },
  {
   "cell_type": "markdown",
   "metadata": {},
   "source": [
    "We calculate the cosine similarity. Compose three helper functions:"
   ]
  },
  {
   "cell_type": "code",
   "execution_count": 64,
   "metadata": {
    "collapsed": true
   },
   "outputs": [],
   "source": [
    "def cos_difference(embedding,word1,word2):\n",
    "    return sklearn.metrics.pairwise.cosine_similarity(embedding[word1].reshape(1,-1),embedding[word2].reshape(1,-1))"
   ]
  },
  {
   "cell_type": "code",
   "execution_count": 44,
   "metadata": {
    "collapsed": true
   },
   "outputs": [],
   "source": [
    "def cosDif_CL(df, word1, word2):\n",
    "    estimatesB=[]\n",
    "    for x in range(20):\n",
    "        W2VB = gensim.models.word2vec.Word2Vec(df['normalized_sents'].sample(frac=1.0, replace=True).sum())\n",
    "        try:\n",
    "            estimatesB.append(cos_difference(W2VB, word1, word2)[0,0])\n",
    "        except KeyError:\n",
    "            #Missing one of the words from the vocab\n",
    "            pass\n",
    "                                                      \n",
    "    print(\"The 90% confidence interval for the cosine distance between {} and {} is:\\n\".format(word1, word2),estimatesB[1], estimatesB[-2])"
   ]
  },
  {
   "cell_type": "code",
   "execution_count": 100,
   "metadata": {
    "collapsed": true
   },
   "outputs": [],
   "source": [
    "def compare_cosDif(word1, word2):\n",
    "    before = cos_difference(preW2V, word1, word2)\n",
    "    after = cos_difference(postW2V, word1, word2)\n",
    "    resultLS = [('Before', before), ('After', after)]\n",
    "    return resultLS"
   ]
  },
  {
   "cell_type": "code",
   "execution_count": 117,
   "metadata": {
    "collapsed": false
   },
   "outputs": [
    {
     "data": {
      "text/plain": [
       "[('Before', array([[0.7081846]], dtype=float32)),\n",
       " ('After', array([[0.4408807]], dtype=float32))]"
      ]
     },
     "execution_count": 117,
     "metadata": {},
     "output_type": "execute_result"
    }
   ],
   "source": [
    "compare_cosDif('woman', 'job')"
   ]
  },
  {
   "cell_type": "code",
   "execution_count": 118,
   "metadata": {
    "collapsed": false
   },
   "outputs": [
    {
     "data": {
      "text/plain": [
       "[('Before', array([[0.7773179]], dtype=float32)),\n",
       " ('After', array([[0.13201678]], dtype=float32))]"
      ]
     },
     "execution_count": 118,
     "metadata": {},
     "output_type": "execute_result"
    }
   ],
   "source": [
    "compare_cosDif('woman', 'independent')"
   ]
  },
  {
   "cell_type": "code",
   "execution_count": 119,
   "metadata": {
    "collapsed": false
   },
   "outputs": [
    {
     "data": {
      "text/plain": [
       "[('Before', array([[0.72919095]], dtype=float32)),\n",
       " ('After', array([[0.30155054]], dtype=float32))]"
      ]
     },
     "execution_count": 119,
     "metadata": {},
     "output_type": "execute_result"
    }
   ],
   "source": [
    "compare_cosDif('woman', 'working')"
   ]
  },
  {
   "cell_type": "markdown",
   "metadata": {},
   "source": [
    "# Semantic Equation"
   ]
  },
  {
   "cell_type": "markdown",
   "metadata": {},
   "source": [
    "man + business - woman = ? \n",
    "\n",
    "Before: hope, maid (coffee), apartment, boss\n",
    "After: mishap, head, walled\n",
    "\n",
    "man + job - woman = ?\n",
    "\n",
    "Before: away, move, house, girlfriend\n",
    "After: goes, girlfriend, boss\n",
    "\n",
    "man + salary - woman = ?\n",
    "\n",
    "Before: inept, playboy, anxiety\n",
    "After: homegrown, pointless, dresses"
   ]
  },
  {
   "cell_type": "code",
   "execution_count": 132,
   "metadata": {
    "collapsed": false
   },
   "outputs": [
    {
     "data": {
      "text/plain": [
       "[('except', 0.9971730709075928),\n",
       " ('inept', 0.9971063137054443),\n",
       " ('wins', 0.9970726370811462),\n",
       " ('playboy', 0.9970306158065796),\n",
       " ('suspects', 0.9968844056129456),\n",
       " ('happens', 0.9968796968460083),\n",
       " ('fights', 0.9968650937080383),\n",
       " ('johnny', 0.9968540668487549),\n",
       " ('aaron', 0.9968214631080627),\n",
       " ('anxiety', 0.9967992305755615)]"
      ]
     },
     "execution_count": 132,
     "metadata": {},
     "output_type": "execute_result"
    }
   ],
   "source": [
    "preW2V.most_similar(positive=['man', 'salary'], negative = ['woman'])"
   ]
  },
  {
   "cell_type": "code",
   "execution_count": 134,
   "metadata": {
    "collapsed": false
   },
   "outputs": [
    {
     "data": {
      "text/plain": [
       "[('clearing', 0.9775209426879883),\n",
       " ('tread', 0.9688286781311035),\n",
       " ('meteor', 0.967766523361206),\n",
       " ('huge', 0.9675048589706421),\n",
       " ('yeah', 0.9658934473991394),\n",
       " ('homegrown', 0.9658304452896118),\n",
       " ('seat', 0.9651919007301331),\n",
       " ('pointless', 0.9650696516036987),\n",
       " ('cutting', 0.9647977352142334),\n",
       " ('dresses', 0.9646548628807068)]"
      ]
     },
     "execution_count": 134,
     "metadata": {},
     "output_type": "execute_result"
    }
   ],
   "source": [
    "postW2V.most_similar(positive=['man', 'salary'], negative = ['woman'])"
   ]
  },
  {
   "cell_type": "markdown",
   "metadata": {},
   "source": [
    "Children + happy - parents = ?<br>\n",
    "Before: dramatic, inspirational, amazing, extraordinary/ordinary<br>\n",
    "After: different, fruition, changed, ordinary, collide\n",
    "\n",
    "Kid + happy - parents = ?<br>\n",
    "Before: modern, exciting, exploring, urban, comtemporary<br>\n",
    "Very Bipolar:<br>\n",
    "After: pitch, fortune, skater, misadventure, tough, bargain"
   ]
  },
  {
   "cell_type": "code",
   "execution_count": 142,
   "metadata": {
    "collapsed": false
   },
   "outputs": [
    {
     "data": {
      "text/plain": [
       "[('modern', 0.9968030452728271),\n",
       " ('exciting', 0.9964920878410339),\n",
       " ('exploring', 0.9961285591125488),\n",
       " ('largest', 0.9959532618522644),\n",
       " ('moving', 0.9957606196403503),\n",
       " ('urban', 0.9956458210945129),\n",
       " ('contemporary', 0.9952831864356995),\n",
       " ('critically', 0.995252251625061),\n",
       " ('create', 0.9952459931373596),\n",
       " ('innovative', 0.9952399730682373)]"
      ]
     },
     "execution_count": 142,
     "metadata": {},
     "output_type": "execute_result"
    }
   ],
   "source": [
    "preW2V.most_similar(positive=['kid', 'happy'], negative = ['parents'])"
   ]
  },
  {
   "cell_type": "code",
   "execution_count": 143,
   "metadata": {
    "collapsed": false,
    "scrolled": true
   },
   "outputs": [
    {
     "data": {
      "text/plain": [
       "[('pursue', 0.9748889803886414),\n",
       " ('demetreous', 0.9719223380088806),\n",
       " ('pitch', 0.9717389345169067),\n",
       " ('fortune', 0.9707940816879272),\n",
       " ('skater', 0.9702844023704529),\n",
       " ('rep', 0.9699834585189819),\n",
       " ('misadventure', 0.9688652753829956),\n",
       " ('tough', 0.968753457069397),\n",
       " ('elena', 0.9684910774230957),\n",
       " ('bargain', 0.9662612080574036)]"
      ]
     },
     "execution_count": 143,
     "metadata": {},
     "output_type": "execute_result"
    }
   ],
   "source": [
    "postW2V.most_similar(positive=['kid', 'happy'], negative = ['parents'])"
   ]
  },
  {
   "cell_type": "markdown",
   "metadata": {},
   "source": [
    "Individual + Leadership - Collective = ?<br>\n",
    "Before: Conflict, terrifying, concerning<br>\n",
    "After: ideologies, hrudles, misconception, overcoming<br>\n",
    "\n",
    "person + leader - group = ? <br>\n",
    "Before: truth, faith, happiness <br>\n",
    "After: abuser, problem, fault, lies"
   ]
  },
  {
   "cell_type": "code",
   "execution_count": 412,
   "metadata": {
    "collapsed": false
   },
   "outputs": [
    {
     "data": {
      "text/plain": [
       "[('grow', 0.9962276816368103),\n",
       " ('sudden', 0.996157169342041),\n",
       " ('tortured', 0.9961364269256592),\n",
       " ('locked', 0.9961274862289429),\n",
       " ('cursed', 0.9960309267044067),\n",
       " ('luck', 0.9960172772407532),\n",
       " ('kept', 0.9960124492645264),\n",
       " ('twin', 0.9959979057312012),\n",
       " ('convicted', 0.9959813356399536),\n",
       " ('approaching', 0.9959773421287537)]"
      ]
     },
     "execution_count": 412,
     "metadata": {},
     "output_type": "execute_result"
    }
   ],
   "source": [
    "preW2V.most_similar(positive=['individual', 'leadership'], negative = ['cooperation'])"
   ]
  },
  {
   "cell_type": "code",
   "execution_count": 413,
   "metadata": {
    "collapsed": false
   },
   "outputs": [
    {
     "data": {
      "text/plain": [
       "[('backgrounds', 0.9805458188056946),\n",
       " ('voices', 0.9719058871269226),\n",
       " ('anecdotes', 0.9693689346313477),\n",
       " ('meanings', 0.9666406512260437),\n",
       " ('touched', 0.9646735787391663),\n",
       " ('aboriginal', 0.9616715908050537),\n",
       " ('accounts', 0.9609901309013367),\n",
       " ('intertwining', 0.9605095386505127),\n",
       " ('tapestry', 0.960353434085846),\n",
       " ('empowerment', 0.959823727607727)]"
      ]
     },
     "execution_count": 413,
     "metadata": {},
     "output_type": "execute_result"
    }
   ],
   "source": [
    "postW2V.most_similar(positive=['individual', 'leadership'], negative = ['cooperation'])"
   ]
  },
  {
   "cell_type": "markdown",
   "metadata": {},
   "source": [
    "# Projection"
   ]
  },
  {
   "cell_type": "code",
   "execution_count": 299,
   "metadata": {
    "collapsed": true
   },
   "outputs": [],
   "source": [
    "def Coloring(Series):\n",
    "    x = Series.values\n",
    "    y = x-x.min()\n",
    "    z = y/y.max()\n",
    "    c = list(plt.cm.rainbow(z))\n",
    "    return c\n",
    "\n",
    "def PlotDimension(ax,df, dim, yscale):\n",
    "    ax.set_frame_on(False)\n",
    "    ax.set_title(dim, fontsize = 20)\n",
    "    ax.set_ylabel(yscale)\n",
    "    colors = Coloring(df[dim])\n",
    "    for i, word in enumerate(df.index):\n",
    "        ax.annotate(word, (0, df[dim][i]), color = colors[i], alpha = 0.6, fontsize = 12)\n",
    "    MaxY = df[dim].max()\n",
    "    MinY = df[dim].min()\n",
    "    plt.ylim(MinY,MaxY)\n",
    "    plt.yticks(())\n",
    "    plt.xticks(())\n",
    "    \n",
    "def dif_of_dif(df):\n",
    "    return df.apply(max) - df.apply(min)"
   ]
  },
  {
   "cell_type": "markdown",
   "metadata": {},
   "source": [
    "According to our hypothesis, I am interested in studying and exploring three dimensions: power, gender, and class."
   ]
  },
  {
   "cell_type": "code",
   "execution_count": 158,
   "metadata": {
    "collapsed": true
   },
   "outputs": [],
   "source": [
    "def normalize(vector):\n",
    "    normalized_vector = vector / np.linalg.norm(vector)\n",
    "    return normalized_vector\n",
    "\n",
    "def dimension(model, positives, negatives):\n",
    "    diff = sum([normalize(model[x]) for x in positives]) - sum([normalize(model[y]) for y in negatives])\n",
    "    return diff"
   ]
  },
  {
   "cell_type": "markdown",
   "metadata": {},
   "source": [
    "Hypothesis 3: Americans instead manifested a ‘tendency to internalize the responsibility for one’s position which often led to feelings of shame’. They blamed themselves for their misfortunes, often apologizing when forced by circumstances to seek economic aid.\n",
    "\n",
    "In order to validate this hypothesis, I decided to create an emotional dimension in a scale of anger and shame. Then I would throw in a list of words related to help, assisstance. "
   ]
  },
  {
   "cell_type": "code",
   "execution_count": 300,
   "metadata": {
    "collapsed": false
   },
   "outputs": [],
   "source": [
    "pre_HappyShame = dimension(preW2V, \n",
    "                       ['happy','appreciate','grateful', 'nice', 'excited', 'great', 'good'], \n",
    "                       ['shame', 'humiliated', 'scandal', 'guilty', 'hate', 'stigma'])\n",
    "post_HappyShame = dimension(postW2V, \n",
    "                       ['happy','appreciate','grateful', 'nice', 'excited', 'great', 'good'], \n",
    "                       ['shame', 'humiliated', 'scandal', 'guilty', 'hate', 'stigma'])"
   ]
  },
  {
   "cell_type": "code",
   "execution_count": 301,
   "metadata": {
    "collapsed": true
   },
   "outputs": [],
   "source": [
    "assist = ['help', 'suggestion', 'advice', \n",
    "          'assist', 'support', 'aid', 'salvation', 'money', 'finance']"
   ]
  },
  {
   "cell_type": "code",
   "execution_count": 302,
   "metadata": {
    "collapsed": true
   },
   "outputs": [],
   "source": [
    "def makeDF(model, word_list, train, dim):\n",
    "    g = []\n",
    "\n",
    "    for word in word_list:\n",
    "        g.append(sklearn.metrics.pairwise.cosine_similarity(model[word].reshape(1,-1), \n",
    "                                                            train.reshape(1,-1))[0][0])\n",
    "    df = pandas.DataFrame({dim: g}, index = word_list)\n",
    "    return df"
   ]
  },
  {
   "cell_type": "code",
   "execution_count": 303,
   "metadata": {
    "collapsed": false
   },
   "outputs": [],
   "source": [
    "pre_HappyShameDF = makeDF(preW2V, assist, pre_HappyShame, 'Pre-Recession')\n",
    "post_HappyShameDF = makeDF(postW2V, assist, post_HappyShame, 'Post-Recession')"
   ]
  },
  {
   "cell_type": "code",
   "execution_count": 425,
   "metadata": {
    "collapsed": false
   },
   "outputs": [
    {
     "data": {
      "image/png": "[encoded data removed]",
      "text/plain": [
       "<matplotlib.figure.Figure at 0x1155897f0>"
      ]
     },
     "metadata": {},
     "output_type": "display_data"
    }
   ],
   "source": [
    "fig = plt.figure(figsize = (12,7))\n",
    "ax1 = fig.add_subplot(131)\n",
    "PlotDimension(ax1, pre_HappyShameDF, 'Pre-Recession', 'Shame-Happy')\n",
    "ax2 = fig.add_subplot(132)\n",
    "PlotDimension(ax2, post_HappyShameDF, 'Post-Recession', 'Shame-Happy')\n",
    "plt.show()"
   ]
  },
  {
   "cell_type": "markdown",
   "metadata": {},
   "source": [
    "Hypothesis 5: Society is looking for individual leadership that would bring them out of the predicament and collective cooperation was devalued.\n",
    "\n",
    "In order to validate this hypothesis, I decided to create an emtional dimension in a scale of favor and dislike. Then I would throw in a list of nouns representing person with power."
   ]
  },
  {
   "cell_type": "code",
   "execution_count": 341,
   "metadata": {
    "collapsed": false
   },
   "outputs": [],
   "source": [
    "pre_FavorHate = dimension(preW2V,\n",
    "                         ['like', 'favor', 'prefer', 'worship', 'praise', 'acclaim'],\n",
    "                         ['hate', 'stupid', 'averse', 'contempt', 'disdain'])\n",
    "post_FavorHate = dimension(postW2V,\n",
    "                         ['like', 'favor', 'prefer', 'worship', 'praise', 'acclaim'],\n",
    "                         ['hate', 'stupid', 'averse', 'contempt', 'disdain'])"
   ]
  },
  {
   "cell_type": "code",
   "execution_count": 422,
   "metadata": {
    "collapsed": true
   },
   "outputs": [],
   "source": [
    "character = ['president', 'savior', 'leader', \n",
    "              'leader', 'captain', 'hero', 'boss', 'country']\n",
    "together = ['collaboration', 'together', 'collective', \n",
    "            'communicate', 'team', 'teamwork']\n",
    "yesorno = character + together"
   ]
  },
  {
   "cell_type": "code",
   "execution_count": 423,
   "metadata": {
    "collapsed": false
   },
   "outputs": [],
   "source": [
    "pre_FavorHateDF = makeDF(preW2V, yesorno, pre_FavorHate, 'Pre-Recession')\n",
    "post_FavorHateDF = makeDF(postW2V, yesorno, post_FavorHate, 'Post-Recession')"
   ]
  },
  {
   "cell_type": "code",
   "execution_count": 426,
   "metadata": {
    "collapsed": false
   },
   "outputs": [
    {
     "data": {
      "image/png": "[encoded data removed]",
      "text/plain": [
       "<matplotlib.figure.Figure at 0x11438ebe0>"
      ]
     },
     "metadata": {},
     "output_type": "display_data"
    }
   ],
   "source": [
    "fig = plt.figure(figsize = (12,7))\n",
    "ax1 = fig.add_subplot(131)\n",
    "PlotDimension(ax1, pre_FavorHateDF, 'Pre-Recession', 'Hate-Favor')\n",
    "ax2 = fig.add_subplot(132)\n",
    "PlotDimension(ax2, post_FavorHateDF, 'Post-Recession', 'Hate-Favor')\n",
    "plt.show()"
   ]
  },
  {
   "cell_type": "markdown",
   "metadata": {},
   "source": [
    "Hypothesis 7: Hollywood portrays a positive image of the independent working woman both on and off screen\n",
    "\n",
    "In order to validate this hypothesis, I decided to create an dimension of age. And reprocess the raw text."
   ]
  },
  {
   "cell_type": "code",
   "execution_count": 347,
   "metadata": {
    "collapsed": true
   },
   "outputs": [],
   "source": [
    "stopwords = list(set(lucem_illud.stop_words_basic) - set(['he', 'him', 'his', 'himself', 'she', \"she's\", 'her', 'hers', 'herself']))"
   ]
  },
  {
   "cell_type": "code",
   "execution_count": 348,
   "metadata": {
    "collapsed": false
   },
   "outputs": [],
   "source": [
    "#Apply our functions, notice each row is a list of lists now\n",
    "preDF['tokenized_sents'] = preDF['plot'].apply(lambda x: \n",
    "                                               [nltk.word_tokenize(s) for s in nltk.sent_tokenize(x)])\n",
    "preDF['normalized_sents'] = preDF['tokenized_sents'].apply(lambda x: \n",
    "                                                           [lucem_illud.normalizeTokens(s, \n",
    "                                                                                        stopwordLst = stopwords, \n",
    "                                                                                        stemmer = None) \n",
    "                                                            for s in x])\n",
    "#Apply our functions, notice each row is a list of lists now\n",
    "postDF['tokenized_sents'] = postDF['plot'].apply(lambda x: \n",
    "                                               [nltk.word_tokenize(s) for s in nltk.sent_tokenize(x)])\n",
    "postDF['normalized_sents'] = postDF['tokenized_sents'].apply(lambda x: \n",
    "                                                           [lucem_illud.normalizeTokens(s, \n",
    "                                                                                        stopwordLst = stopwords, \n",
    "                                                                                        stemmer = None) \n",
    "                                                            for s in x])\n",
    "preW2V_gender = gensim.models.word2vec.Word2Vec(preDF['normalized_sents'].sum())\n",
    "postW2V_gender = gensim.models.word2vec.Word2Vec(postDF['normalized_sents'].sum())"
   ]
  },
  {
   "cell_type": "code",
   "execution_count": 405,
   "metadata": {
    "collapsed": true
   },
   "outputs": [],
   "source": [
    "pre_Gender = dimension(preW2V_gender, ['man','him','he'], ['woman', 'her', 'she'])\n",
    "post_Gender = dimension(postW2V_gender, ['man','him','he'], ['woman', 'her', 'she'])"
   ]
  },
  {
   "cell_type": "code",
   "execution_count": 409,
   "metadata": {
    "collapsed": true
   },
   "outputs": [],
   "source": [
    "work = ['independent', 'working', 'job', 'salary', 'position', 'office', 'meeting', 'interview', 'business', 'contract']"
   ]
  },
  {
   "cell_type": "code",
   "execution_count": 410,
   "metadata": {
    "collapsed": false
   },
   "outputs": [],
   "source": [
    "pre_GenderDF = makeDF(preW2V_gender, work, pre_Gender, 'Pre-Recession')\n",
    "post_GenderDF = makeDF(postW2V_gender, work, pre_Gender, 'Post-Recession')"
   ]
  },
  {
   "cell_type": "code",
   "execution_count": 411,
   "metadata": {
    "collapsed": false
   },
   "outputs": [
    {
     "data": {
      "image/png": "[encoded data removed]",
      "text/plain": [
       "<matplotlib.figure.Figure at 0x11505e128>"
      ]
     },
     "metadata": {},
     "output_type": "display_data"
    }
   ],
   "source": [
    "fig = plt.figure(figsize = (12,7))\n",
    "ax1 = fig.add_subplot(131)\n",
    "PlotDimension(ax1, pre_GenderDF, 'Pre-Recession', 'Gender')\n",
    "ax2 = fig.add_subplot(132)\n",
    "PlotDimension(ax2, post_GenderDF, 'Post-Recession', 'Gender')\n",
    "plt.show()"
   ]
  }
 ],
 "metadata": {
  "anaconda-cloud": {},
  "kernelspec": {
   "display_name": "Python [conda root]",
   "language": "python",
   "name": "conda-root-py"
  },
  "language_info": {
   "codemirror_mode": {
    "name": "ipython",
    "version": 3
   },
   "file_extension": ".py",
   "mimetype": "text/x-python",
   "name": "python",
   "nbconvert_exporter": "python",
   "pygments_lexer": "ipython3",
   "version": "3.5.2"
  }
 },
 "nbformat": 4,
 "nbformat_minor": 1
}

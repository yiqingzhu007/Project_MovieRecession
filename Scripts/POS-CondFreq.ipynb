{
 "cells": [
  {
   "cell_type": "markdown",
   "metadata": {},
   "source": [
    "In this notebook, we are mainly testing an hypothesis during the Great Depression: the culture industry tend to connect the people with the system. Evoking public emotion toward the country and the government. Emphasizing and promoting positive image of executive, legislative, and judicial system."
   ]
  },
  {
   "cell_type": "markdown",
   "metadata": {},
   "source": [
    "## Prepare for analysis"
   ]
  },
  {
   "cell_type": "code",
   "execution_count": 1,
   "metadata": {
    "collapsed": true
   },
   "outputs": [],
   "source": [
    "#Special module written for this class\n",
    "#This provides access to data and to helper functions from previous weeks\n",
    "#Make sure you update it before starting this notebook\n",
    "import lucem_illud #pip install -U git+git://github.com/Computational-Content-Analysis-2018/lucem_illud.git\n",
    "\n",
    "#All these packages need to be installed from pip\n",
    "#For NLP\n",
    "import nltk\n",
    "\n",
    "import numpy as np #For arrays\n",
    "import pandas #Gives us DataFrames\n",
    "import matplotlib.pyplot as plt #For graphics\n",
    "import seaborn #Makes the graphics look nicer\n",
    "\n",
    "#Displays the graphs\n",
    "import graphviz #You also need to install the command line graphviz\n",
    "\n",
    "#These are from the standard library\n",
    "import os.path\n",
    "import zipfile\n",
    "import subprocess\n",
    "import io\n",
    "import tempfile\n",
    "\n",
    "%matplotlib inline"
   ]
  },
  {
   "cell_type": "code",
   "execution_count": 2,
   "metadata": {
    "collapsed": false
   },
   "outputs": [
    {
     "name": "stdout",
     "output_type": "stream",
     "text": [
      "Starting downloads, this will take 5-10 minutes\n",
      "[0%] Downloading core from http://nlp.stanford.edu/software/stanford-corenlp-full-2017-06-09.zip\n",
      "[24%] Downloaded core, extracting to ../stanford-NLP/core\n",
      "[25%] Downloading postagger from https://nlp.stanford.edu/software/stanford-postagger-full-2017-06-09.zip\n",
      "[49%] Downloaded postagger, extracting to ../stanford-NLP/postagger\n",
      "[50%] Downloading ner from https://nlp.stanford.edu/software/stanford-ner-2017-06-09.zip\n",
      "[74%] Downloaded ner, extracting to ../stanford-NLP/ner\n",
      "[75%] Downloading parser from https://nlp.stanford.edu/software/stanford-parser-full-2017-06-09.zip\n",
      "[99%] Downloaded parser, extracting to ../stanford-NLP/parser\n",
      "[100%]Done setting up the Stanford NLP collection\n"
     ]
    }
   ],
   "source": [
    "lucem_illud.setupStanfordNLP()"
   ]
  },
  {
   "cell_type": "code",
   "execution_count": 3,
   "metadata": {
    "collapsed": false
   },
   "outputs": [
    {
     "name": "stderr",
     "output_type": "stream",
     "text": [
      "//anaconda/lib/python3.5/site-packages/nltk/tag/stanford.py:183: DeprecationWarning: \n",
      "The StanfordTokenizer will be deprecated in version 3.2.5.\n",
      "Please use \u001b[91mnltk.tag.corenlp.CoreNLPPOSTagger\u001b[0m or \u001b[91mnltk.tag.corenlp.CoreNLPNERTagger\u001b[0m instead.\n",
      "  super(StanfordNERTagger, self).__init__(*args, **kwargs)\n",
      "//anaconda/lib/python3.5/site-packages/nltk/tag/stanford.py:149: DeprecationWarning: \n",
      "The StanfordTokenizer will be deprecated in version 3.2.5.\n",
      "Please use \u001b[91mnltk.tag.corenlp.CoreNLPPOSTagger\u001b[0m or \u001b[91mnltk.tag.corenlp.CoreNLPNERTagger\u001b[0m instead.\n",
      "  super(StanfordPOSTagger, self).__init__(*args, **kwargs)\n"
     ]
    }
   ],
   "source": [
    "import lucem_illud.stanford as stanford"
   ]
  },
  {
   "cell_type": "markdown",
   "metadata": {},
   "source": [
    "## Load and Process Data"
   ]
  },
  {
   "cell_type": "markdown",
   "metadata": {},
   "source": [
    "Here we load the raw data sets, label each plot, and then merge all plots into a comprehensive dataframe."
   ]
  },
  {
   "cell_type": "code",
   "execution_count": 7,
   "metadata": {
    "collapsed": true
   },
   "outputs": [],
   "source": [
    "preDF = pandas.read_csv('../Data/pre_popular.csv') \n",
    "postDF = pandas.read_csv('../Data/post_popular.csv')"
   ]
  },
  {
   "cell_type": "markdown",
   "metadata": {},
   "source": [
    "## Part-of-Speech (POS) tagging¶"
   ]
  },
  {
   "cell_type": "markdown",
   "metadata": {},
   "source": [
    "Process data and tokenize the text"
   ]
  },
  {
   "cell_type": "code",
   "execution_count": 8,
   "metadata": {
    "collapsed": true
   },
   "outputs": [],
   "source": [
    "preDF['sentences'] = preDF['plot'].apply(lambda x: [nltk.word_tokenize(s) for s in nltk.sent_tokenize(x)])\n",
    "postDF['sentences'] = postDF['plot'].apply(lambda x: [nltk.word_tokenize(s) for s in nltk.sent_tokenize(x)])"
   ]
  },
  {
   "cell_type": "markdown",
   "metadata": {},
   "source": [
    "Create Part-of-Speech (POS) tagging of the corpus: notice this could take more than 4 hours to run."
   ]
  },
  {
   "cell_type": "code",
   "execution_count": 9,
   "metadata": {
    "collapsed": true
   },
   "outputs": [],
   "source": [
    "preDF['POS_sents'] = preDF['sentences'].apply(lambda x: stanford.postTagger.tag_sents(x))\n",
    "postDF['POS_sents'] = postDF['sentences'].apply(lambda x: stanford.postTagger.tag_sents(x))"
   ]
  },
  {
   "cell_type": "markdown",
   "metadata": {},
   "source": [
    "Export file to the data directory just in case:"
   ]
  },
  {
   "cell_type": "code",
   "execution_count": 10,
   "metadata": {
    "collapsed": true
   },
   "outputs": [],
   "source": [
    "preDF.to_csv('pre_popularPOS.csv', index = False)\n",
    "postDF.to_csv('post_popularPOS.csv', index = False)"
   ]
  },
  {
   "cell_type": "markdown",
   "metadata": {},
   "source": [
    "### Consider conditional frequencies (e.g., adjectives associated with nouns of interest or adverbs with verbs of interest)"
   ]
  },
  {
   "cell_type": "markdown",
   "metadata": {},
   "source": [
    "In order to facilitate examining the conditional frequencies of choice, a function called 'conditionalFreq' is composed which show the conditional frequencies of choice:"
   ]
  },
  {
   "cell_type": "code",
   "execution_count": 11,
   "metadata": {
    "collapsed": true
   },
   "outputs": [],
   "source": [
    "def conditionalFreq(NTarget, corpusPOS, Word):                          \n",
    "    NResults = set()                                                            \n",
    "    for entry in corpusPOS:                                                     \n",
    "        for sentence in entry:                                                  \n",
    "            for (ent1, kind1),(ent2,kind2) in zip(sentence[:-1], sentence[1:]): \n",
    "                if (kind1,ent2.lower())==(NTarget,Word):                        \n",
    "                    NResults.add(ent1)                                          \n",
    "                else:                                                           \n",
    "                    continue                                                    \n",
    "    return NResults\n",
    "\n",
    "def compare_conditionalFreq(NTarget, Word, corpusPOS_pre = preDF['POS_sents'], corpusPOS_post = postDF['POS_sents']):\n",
    "    pre = conditionalFreq(NTarget, corpusPOS_pre, Word)\n",
    "    post = conditionalFreq(NTarget, corpusPOS_post, Word)\n",
    "    result = [('Before', pre), ('After', post)]\n",
    "    return result"
   ]
  },
  {
   "cell_type": "markdown",
   "metadata": {},
   "source": [
    "To test the effect of this function and the conditional frequency, I tried to see the adjectives associated with different US government agencies."
   ]
  },
  {
   "cell_type": "code",
   "execution_count": 48,
   "metadata": {
    "collapsed": false
   },
   "outputs": [
    {
     "data": {
      "text/plain": [
       "[('Before', {'Israeli', 'critical', 'democratic'}),\n",
       " ('After', {'British', 'secret'})]"
      ]
     },
     "execution_count": 48,
     "metadata": {},
     "output_type": "execute_result"
    }
   ],
   "source": [
    "compare_conditionalFreq('JJ', 'government')"
   ]
  },
  {
   "cell_type": "code",
   "execution_count": 36,
   "metadata": {
    "collapsed": false
   },
   "outputs": [
    {
     "data": {
      "text/plain": [
       "[('Before',\n",
       "  {'Muslim', 'fast-thinking', 'military', 'stern', 'tough', 'unofficial'}),\n",
       " ('After',\n",
       "  {'dictatorial',\n",
       "   'evil',\n",
       "   'ferocious',\n",
       "   'military',\n",
       "   'new',\n",
       "   'original',\n",
       "   'popular'})]"
      ]
     },
     "execution_count": 36,
     "metadata": {},
     "output_type": "execute_result"
    }
   ],
   "source": [
    "compare_conditionalFreq('JJ', 'leader')"
   ]
  },
  {
   "cell_type": "code",
   "execution_count": 54,
   "metadata": {
    "collapsed": false
   },
   "outputs": [
    {
     "data": {
      "text/plain": [
       "[('Before', {'average', 'demonic', 'legendary', 'local', 'national', 'super'}),\n",
       " ('After', {'national'})]"
      ]
     },
     "execution_count": 54,
     "metadata": {},
     "output_type": "execute_result"
    }
   ],
   "source": [
    "compare_conditionalFreq('JJ', 'hero')"
   ]
  },
  {
   "cell_type": "code",
   "execution_count": 55,
   "metadata": {
    "collapsed": false
   },
   "outputs": [
    {
     "data": {
      "text/plain": [
       "[('Before', set()), ('After', set())]"
      ]
     },
     "execution_count": 55,
     "metadata": {},
     "output_type": "execute_result"
    }
   ],
   "source": [
    "compare_conditionalFreq('JJ', 'savior')"
   ]
  },
  {
   "cell_type": "code",
   "execution_count": 49,
   "metadata": {
    "collapsed": false
   },
   "outputs": [
    {
     "data": {
      "text/plain": [
       "[('Before',\n",
       "  {'adopted',\n",
       "   'beloved',\n",
       "   'countless',\n",
       "   'husband/the',\n",
       "   'ill-behaved',\n",
       "   'missing',\n",
       "   'other',\n",
       "   'pajama-clad',\n",
       "   'picture-perfect',\n",
       "   'respective',\n",
       "   'young'}),\n",
       " ('After',\n",
       "  {'adolescent',\n",
       "   'adult',\n",
       "   'crazy',\n",
       "   'gifted',\n",
       "   'other',\n",
       "   'own',\n",
       "   'unruly',\n",
       "   'young'})]"
      ]
     },
     "execution_count": 49,
     "metadata": {},
     "output_type": "execute_result"
    }
   ],
   "source": [
    "compare_conditionalFreq('JJ', 'children')"
   ]
  },
  {
   "cell_type": "code",
   "execution_count": 56,
   "metadata": {
    "collapsed": false
   },
   "outputs": [
    {
     "data": {
      "text/plain": [
       "[('Before',\n",
       "  {'American',\n",
       "   'British',\n",
       "   'French',\n",
       "   'Russian',\n",
       "   'actual',\n",
       "   'contemplative',\n",
       "   'dead',\n",
       "   'good',\n",
       "   'human',\n",
       "   'ill',\n",
       "   'impulsive',\n",
       "   'independent',\n",
       "   'insecure',\n",
       "   'multi-talented',\n",
       "   'mysterious',\n",
       "   'old',\n",
       "   'perfect',\n",
       "   'pregnant',\n",
       "   'seductive',\n",
       "   'successful',\n",
       "   'unconfident',\n",
       "   'unmarried',\n",
       "   'young'}),\n",
       " ('After',\n",
       "  {'Caucasian',\n",
       "   'crazy',\n",
       "   'dead',\n",
       "   'difficult',\n",
       "   'friendless',\n",
       "   'gipsy',\n",
       "   'mysterious',\n",
       "   'only',\n",
       "   'overachieving',\n",
       "   'paranoid',\n",
       "   'uncultured',\n",
       "   'young'})]"
      ]
     },
     "execution_count": 56,
     "metadata": {},
     "output_type": "execute_result"
    }
   ],
   "source": [
    "compare_conditionalFreq('JJ', 'woman')"
   ]
  },
  {
   "cell_type": "code",
   "execution_count": 59,
   "metadata": {
    "collapsed": false
   },
   "outputs": [
    {
     "data": {
      "text/plain": [
       "[('Before', {'moral'}), ('After', {'real', 'stubborn'})]"
      ]
     },
     "execution_count": 59,
     "metadata": {},
     "output_type": "execute_result"
    }
   ],
   "source": [
    "compare_conditionalFreq('JJ', 'support')"
   ]
  }
 ],
 "metadata": {
  "kernelspec": {
   "display_name": "Python [conda root]",
   "language": "python",
   "name": "conda-root-py"
  },
  "language_info": {
   "codemirror_mode": {
    "name": "ipython",
    "version": 3
   },
   "file_extension": ".py",
   "mimetype": "text/x-python",
   "name": "python",
   "nbconvert_exporter": "python",
   "pygments_lexer": "ipython3",
   "version": "3.5.2"
  }
 },
 "nbformat": 4,
 "nbformat_minor": 1
}
